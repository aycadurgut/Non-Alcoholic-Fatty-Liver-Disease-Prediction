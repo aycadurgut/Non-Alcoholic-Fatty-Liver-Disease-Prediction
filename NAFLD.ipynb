{
 "cells": [
  {
   "cell_type": "code",
   "execution_count": 1,
   "metadata": {},
   "outputs": [
    {
     "data": {
      "text/html": [
       "<div>\n",
       "<style scoped>\n",
       "    .dataframe tbody tr th:only-of-type {\n",
       "        vertical-align: middle;\n",
       "    }\n",
       "\n",
       "    .dataframe tbody tr th {\n",
       "        vertical-align: top;\n",
       "    }\n",
       "\n",
       "    .dataframe thead th {\n",
       "        text-align: right;\n",
       "    }\n",
       "</style>\n",
       "<table border=\"1\" class=\"dataframe\">\n",
       "  <thead>\n",
       "    <tr style=\"text-align: right;\">\n",
       "      <th></th>\n",
       "      <th>Patient No.</th>\n",
       "      <th>Age</th>\n",
       "      <th>Gender (Female=1, Male=2)</th>\n",
       "      <th>Height</th>\n",
       "      <th>Weight</th>\n",
       "      <th>Body Mass Index</th>\n",
       "      <th>Waist Circumference</th>\n",
       "      <th>Hip Circumference</th>\n",
       "      <th>Systolic Blood Pressure</th>\n",
       "      <th>Diastolic Blood Pressure</th>\n",
       "      <th>...</th>\n",
       "      <th>Activity</th>\n",
       "      <th>Fibrosis</th>\n",
       "      <th>NAS score according to Kleiner</th>\n",
       "      <th>NAS score&gt;=4 and Fibrosis&gt;=2 (If NAS score&gt;=4 and Fibrosis&gt;=2 = 1, If not = 0)</th>\n",
       "      <th>Fibrosis status (No=0, Yes=1) (Fibrosis 1 and above, there is Fibrosis)</th>\n",
       "      <th>Significant Fibrosis (No=0, Yes=1) (If Fibrosis 2 and above, there is Significant Fibrosis)</th>\n",
       "      <th>Advanced Fibrosis (No=0, Yes=1) (If Fibrosis is 3 and above, there is Advanced Fibrosis)</th>\n",
       "      <th>Cirrhosis (No=0, Yes=1) (If Fibrosis is 4, there is Cirrhosis)</th>\n",
       "      <th>Diagnosis according to SAF (NASH=1, NAFL=2)</th>\n",
       "      <th>Type of Disease (Mild illness=1, Severe illness=2)</th>\n",
       "    </tr>\n",
       "  </thead>\n",
       "  <tbody>\n",
       "    <tr>\n",
       "      <th>0</th>\n",
       "      <td>1</td>\n",
       "      <td>60</td>\n",
       "      <td>1</td>\n",
       "      <td>150</td>\n",
       "      <td>80</td>\n",
       "      <td>35.56</td>\n",
       "      <td>119.0</td>\n",
       "      <td>104.0</td>\n",
       "      <td>135</td>\n",
       "      <td>77</td>\n",
       "      <td>...</td>\n",
       "      <td>2</td>\n",
       "      <td>1</td>\n",
       "      <td>4</td>\n",
       "      <td>1</td>\n",
       "      <td>1</td>\n",
       "      <td>0</td>\n",
       "      <td>0</td>\n",
       "      <td>0</td>\n",
       "      <td>1</td>\n",
       "      <td>2</td>\n",
       "    </tr>\n",
       "    <tr>\n",
       "      <th>1</th>\n",
       "      <td>2</td>\n",
       "      <td>55</td>\n",
       "      <td>1</td>\n",
       "      <td>154</td>\n",
       "      <td>73</td>\n",
       "      <td>30.78</td>\n",
       "      <td>101.0</td>\n",
       "      <td>98.0</td>\n",
       "      <td>120</td>\n",
       "      <td>72</td>\n",
       "      <td>...</td>\n",
       "      <td>2</td>\n",
       "      <td>0</td>\n",
       "      <td>4</td>\n",
       "      <td>1</td>\n",
       "      <td>0</td>\n",
       "      <td>0</td>\n",
       "      <td>0</td>\n",
       "      <td>0</td>\n",
       "      <td>1</td>\n",
       "      <td>2</td>\n",
       "    </tr>\n",
       "    <tr>\n",
       "      <th>2</th>\n",
       "      <td>3</td>\n",
       "      <td>53</td>\n",
       "      <td>2</td>\n",
       "      <td>170</td>\n",
       "      <td>101</td>\n",
       "      <td>34.95</td>\n",
       "      <td>116.0</td>\n",
       "      <td>112.0</td>\n",
       "      <td>120</td>\n",
       "      <td>80</td>\n",
       "      <td>...</td>\n",
       "      <td>2</td>\n",
       "      <td>3</td>\n",
       "      <td>4</td>\n",
       "      <td>1</td>\n",
       "      <td>1</td>\n",
       "      <td>1</td>\n",
       "      <td>1</td>\n",
       "      <td>0</td>\n",
       "      <td>1</td>\n",
       "      <td>2</td>\n",
       "    </tr>\n",
       "    <tr>\n",
       "      <th>3</th>\n",
       "      <td>4</td>\n",
       "      <td>33</td>\n",
       "      <td>2</td>\n",
       "      <td>175</td>\n",
       "      <td>95</td>\n",
       "      <td>31.02</td>\n",
       "      <td>114.0</td>\n",
       "      <td>114.0</td>\n",
       "      <td>124</td>\n",
       "      <td>83</td>\n",
       "      <td>...</td>\n",
       "      <td>2</td>\n",
       "      <td>1</td>\n",
       "      <td>4</td>\n",
       "      <td>1</td>\n",
       "      <td>1</td>\n",
       "      <td>0</td>\n",
       "      <td>0</td>\n",
       "      <td>0</td>\n",
       "      <td>1</td>\n",
       "      <td>2</td>\n",
       "    </tr>\n",
       "    <tr>\n",
       "      <th>4</th>\n",
       "      <td>5</td>\n",
       "      <td>23</td>\n",
       "      <td>2</td>\n",
       "      <td>162</td>\n",
       "      <td>68</td>\n",
       "      <td>25.91</td>\n",
       "      <td>101.0</td>\n",
       "      <td>97.0</td>\n",
       "      <td>124</td>\n",
       "      <td>79</td>\n",
       "      <td>...</td>\n",
       "      <td>2</td>\n",
       "      <td>0</td>\n",
       "      <td>4</td>\n",
       "      <td>1</td>\n",
       "      <td>0</td>\n",
       "      <td>0</td>\n",
       "      <td>0</td>\n",
       "      <td>0</td>\n",
       "      <td>1</td>\n",
       "      <td>2</td>\n",
       "    </tr>\n",
       "  </tbody>\n",
       "</table>\n",
       "<p>5 rows × 62 columns</p>\n",
       "</div>"
      ],
      "text/plain": [
       "   Patient No.  Age  Gender (Female=1, Male=2)  Height  Weight  \\\n",
       "0            1   60                          1     150      80   \n",
       "1            2   55                          1     154      73   \n",
       "2            3   53                          2     170     101   \n",
       "3            4   33                          2     175      95   \n",
       "4            5   23                          2     162      68   \n",
       "\n",
       "   Body Mass Index  Waist Circumference  Hip Circumference  \\\n",
       "0            35.56                119.0              104.0   \n",
       "1            30.78                101.0               98.0   \n",
       "2            34.95                116.0              112.0   \n",
       "3            31.02                114.0              114.0   \n",
       "4            25.91                101.0               97.0   \n",
       "\n",
       "   Systolic Blood Pressure  Diastolic Blood Pressure  ...  Activity  Fibrosis  \\\n",
       "0                      135                        77  ...         2         1   \n",
       "1                      120                        72  ...         2         0   \n",
       "2                      120                        80  ...         2         3   \n",
       "3                      124                        83  ...         2         1   \n",
       "4                      124                        79  ...         2         0   \n",
       "\n",
       "   NAS score according to Kleiner  \\\n",
       "0                               4   \n",
       "1                               4   \n",
       "2                               4   \n",
       "3                               4   \n",
       "4                               4   \n",
       "\n",
       "   NAS score>=4 and Fibrosis>=2 (If NAS score>=4 and Fibrosis>=2 = 1, If not = 0)  \\\n",
       "0                                                  1                                \n",
       "1                                                  1                                \n",
       "2                                                  1                                \n",
       "3                                                  1                                \n",
       "4                                                  1                                \n",
       "\n",
       "   Fibrosis status (No=0, Yes=1) (Fibrosis 1 and above, there is Fibrosis)  \\\n",
       "0                                                  1                         \n",
       "1                                                  0                         \n",
       "2                                                  1                         \n",
       "3                                                  1                         \n",
       "4                                                  0                         \n",
       "\n",
       "   Significant Fibrosis (No=0, Yes=1) (If Fibrosis 2 and above, there is Significant Fibrosis)  \\\n",
       "0                                                  0                                             \n",
       "1                                                  0                                             \n",
       "2                                                  1                                             \n",
       "3                                                  0                                             \n",
       "4                                                  0                                             \n",
       "\n",
       "   Advanced Fibrosis (No=0, Yes=1) (If Fibrosis is 3 and above, there is Advanced Fibrosis)  \\\n",
       "0                                                  0                                          \n",
       "1                                                  0                                          \n",
       "2                                                  1                                          \n",
       "3                                                  0                                          \n",
       "4                                                  0                                          \n",
       "\n",
       "   Cirrhosis (No=0, Yes=1) (If Fibrosis is 4, there is Cirrhosis)  \\\n",
       "0                                                  0                \n",
       "1                                                  0                \n",
       "2                                                  0                \n",
       "3                                                  0                \n",
       "4                                                  0                \n",
       "\n",
       "   Diagnosis according to SAF (NASH=1, NAFL=2)  \\\n",
       "0                                            1   \n",
       "1                                            1   \n",
       "2                                            1   \n",
       "3                                            1   \n",
       "4                                            1   \n",
       "\n",
       "   Type of Disease (Mild illness=1, Severe illness=2)  \n",
       "0                                                  2   \n",
       "1                                                  2   \n",
       "2                                                  2   \n",
       "3                                                  2   \n",
       "4                                                  2   \n",
       "\n",
       "[5 rows x 62 columns]"
      ]
     },
     "execution_count": 1,
     "metadata": {},
     "output_type": "execute_result"
    }
   ],
   "source": [
    "import numpy as np\n",
    "import pandas as pd\n",
    "import seaborn as sns\n",
    "import matplotlib.pyplot as plt\n",
    "\n",
    "df_original = pd.read_excel(r\"C:\\Users\\aycad\\Desktop\\21052078_AyçaDurgut\\archive\\NAFLD.xlsx\")\n",
    "df = df_original.copy()\n",
    "\n",
    "df.head()"
   ]
  },
  {
   "cell_type": "code",
   "execution_count": 2,
   "metadata": {},
   "outputs": [
    {
     "name": "stdout",
     "output_type": "stream",
     "text": [
      "<class 'pandas.core.frame.DataFrame'>\n",
      "RangeIndex: 605 entries, 0 to 604\n",
      "Data columns (total 62 columns):\n",
      " #   Column                                                                                       Non-Null Count  Dtype  \n",
      "---  ------                                                                                       --------------  -----  \n",
      " 0   Patient No.                                                                                  605 non-null    int64  \n",
      " 1   Age                                                                                          605 non-null    int64  \n",
      " 2   Gender (Female=1, Male=2)                                                                    605 non-null    int64  \n",
      " 3   Height                                                                                       605 non-null    int64  \n",
      " 4   Weight                                                                                       605 non-null    int64  \n",
      " 5   Body Mass Index                                                                              605 non-null    float64\n",
      " 6   Waist Circumference                                                                          576 non-null    float64\n",
      " 7   Hip Circumference                                                                            598 non-null    float64\n",
      " 8   Systolic Blood Pressure                                                                      605 non-null    int64  \n",
      " 9   Diastolic Blood Pressure                                                                     605 non-null    int64  \n",
      " 10  Diyabetes Mellitus (No=0, Yes=1)                                                             605 non-null    int64  \n",
      " 11  Hypertension (No=0, Yes=1)                                                                   605 non-null    int64  \n",
      " 12  Hyperlipidemia (No=0, Yes=1)                                                                 605 non-null    int64  \n",
      " 13  Metabolic syndrome (No=0, Yes=1)                                                             605 non-null    int64  \n",
      " 14  Smoking Status (Never Smoked=1, Left Smoking=2, Smoking=3)                                   577 non-null    float64\n",
      " 15  AST                                                                                          605 non-null    float64\n",
      " 16  ALT                                                                                          605 non-null    int64  \n",
      " 17  ALP                                                                                          604 non-null    float64\n",
      " 18  GGT                                                                                          602 non-null    float64\n",
      " 19  LDH                                                                                          561 non-null    float64\n",
      " 20  Total Bilirubin                                                                              604 non-null    float64\n",
      " 21  Direct Bilirubin                                                                             604 non-null    float64\n",
      " 22  Total Protein                                                                                523 non-null    float64\n",
      " 23  Albumin                                                                                      605 non-null    float64\n",
      " 24  Total Cholesterol                                                                            605 non-null    int64  \n",
      " 25  Triglycerides                                                                                604 non-null    float64\n",
      " 26  HDL                                                                                          604 non-null    float64\n",
      " 27  LDL                                                                                          602 non-null    float64\n",
      " 28  Microalbumin Spot Urine                                                                      183 non-null    float64\n",
      " 29  Microalbumin/Creatinine Ratio                                                                115 non-null    float64\n",
      " 30  TSH                                                                                          293 non-null    float64\n",
      " 31  CK                                                                                           153 non-null    float64\n",
      " 32  Leukocyte                                                                                    604 non-null    float64\n",
      " 33  Hemoglobin                                                                                   604 non-null    float64\n",
      " 34  Trombosit                                                                                    604 non-null    float64\n",
      " 35  Mean Corpuscular Volume                                                                      603 non-null    float64\n",
      " 36  Mean Platelet Volume                                                                         591 non-null    float64\n",
      " 37  PT                                                                                           237 non-null    float64\n",
      " 38  INR                                                                                          304 non-null    float64\n",
      " 39  Vitamin D                                                                                    193 non-null    float64\n",
      " 40  Ferritin                                                                                     588 non-null    float64\n",
      " 41  Ceruloplasmin                                                                                288 non-null    float64\n",
      " 42  C Peptide                                                                                    167 non-null    float64\n",
      " 43  Glucose                                                                                      601 non-null    float64\n",
      " 44  Insulin                                                                                      277 non-null    float64\n",
      " 45  HOMA                                                                                         277 non-null    float64\n",
      " 46  Insulin resistance according to HOMA (insulin resistance = 1, no insulin resistance = 2)     277 non-null    float64\n",
      " 47  Uric Acid                                                                                    254 non-null    float64\n",
      " 48  BUN                                                                                          305 non-null    float64\n",
      " 49  Creatinine                                                                                   305 non-null    float64\n",
      " 50  Hemoglobin - A1C                                                                             564 non-null    float64\n",
      " 51  Steatosis                                                                                    605 non-null    int64  \n",
      " 52  Activity                                                                                     605 non-null    int64  \n",
      " 53  Fibrosis                                                                                     605 non-null    int64  \n",
      " 54  NAS score according to Kleiner                                                               605 non-null    int64  \n",
      " 55  NAS score>=4 and Fibrosis>=2 (If NAS score>=4 and Fibrosis>=2 = 1, If not = 0)               605 non-null    int64  \n",
      " 56  Fibrosis status (No=0, Yes=1) (Fibrosis 1 and above, there is Fibrosis)                      605 non-null    int64  \n",
      " 57  Significant Fibrosis (No=0, Yes=1) (If Fibrosis 2 and above, there is Significant Fibrosis)  605 non-null    int64  \n",
      " 58  Advanced Fibrosis (No=0, Yes=1) (If Fibrosis is 3 and above, there is Advanced Fibrosis)     605 non-null    int64  \n",
      " 59  Cirrhosis (No=0, Yes=1) (If Fibrosis is 4, there is Cirrhosis)                               605 non-null    int64  \n",
      " 60  Diagnosis according to SAF (NASH=1, NAFL=2)                                                  605 non-null    int64  \n",
      " 61  Type of Disease (Mild illness=1, Severe illness=2)                                           605 non-null    int64  \n",
      "dtypes: float64(38), int64(24)\n",
      "memory usage: 293.2 KB\n"
     ]
    }
   ],
   "source": [
    "df.info()"
   ]
  },
  {
   "cell_type": "code",
   "execution_count": 3,
   "metadata": {},
   "outputs": [
    {
     "data": {
      "text/html": [
       "<div>\n",
       "<style scoped>\n",
       "    .dataframe tbody tr th:only-of-type {\n",
       "        vertical-align: middle;\n",
       "    }\n",
       "\n",
       "    .dataframe tbody tr th {\n",
       "        vertical-align: top;\n",
       "    }\n",
       "\n",
       "    .dataframe thead th {\n",
       "        text-align: right;\n",
       "    }\n",
       "</style>\n",
       "<table border=\"1\" class=\"dataframe\">\n",
       "  <thead>\n",
       "    <tr style=\"text-align: right;\">\n",
       "      <th></th>\n",
       "      <th>Patient No.</th>\n",
       "      <th>Age</th>\n",
       "      <th>Gender (Female=1, Male=2)</th>\n",
       "      <th>Height</th>\n",
       "      <th>Weight</th>\n",
       "      <th>Body Mass Index</th>\n",
       "      <th>Waist Circumference</th>\n",
       "      <th>Hip Circumference</th>\n",
       "      <th>Systolic Blood Pressure</th>\n",
       "      <th>Diastolic Blood Pressure</th>\n",
       "      <th>...</th>\n",
       "      <th>Activity</th>\n",
       "      <th>Fibrosis</th>\n",
       "      <th>NAS score according to Kleiner</th>\n",
       "      <th>NAS score&gt;=4 and Fibrosis&gt;=2 (If NAS score&gt;=4 and Fibrosis&gt;=2 = 1, If not = 0)</th>\n",
       "      <th>Fibrosis status (No=0, Yes=1) (Fibrosis 1 and above, there is Fibrosis)</th>\n",
       "      <th>Significant Fibrosis (No=0, Yes=1) (If Fibrosis 2 and above, there is Significant Fibrosis)</th>\n",
       "      <th>Advanced Fibrosis (No=0, Yes=1) (If Fibrosis is 3 and above, there is Advanced Fibrosis)</th>\n",
       "      <th>Cirrhosis (No=0, Yes=1) (If Fibrosis is 4, there is Cirrhosis)</th>\n",
       "      <th>Diagnosis according to SAF (NASH=1, NAFL=2)</th>\n",
       "      <th>Type of Disease (Mild illness=1, Severe illness=2)</th>\n",
       "    </tr>\n",
       "  </thead>\n",
       "  <tbody>\n",
       "    <tr>\n",
       "      <th>count</th>\n",
       "      <td>605.000000</td>\n",
       "      <td>605.000000</td>\n",
       "      <td>605.000000</td>\n",
       "      <td>605.000000</td>\n",
       "      <td>605.000000</td>\n",
       "      <td>605.000000</td>\n",
       "      <td>576.000000</td>\n",
       "      <td>598.000000</td>\n",
       "      <td>605.000000</td>\n",
       "      <td>605.000000</td>\n",
       "      <td>...</td>\n",
       "      <td>605.000000</td>\n",
       "      <td>605.000000</td>\n",
       "      <td>605.000000</td>\n",
       "      <td>605.00000</td>\n",
       "      <td>605.000000</td>\n",
       "      <td>605.000000</td>\n",
       "      <td>605.000000</td>\n",
       "      <td>605.000000</td>\n",
       "      <td>605.000000</td>\n",
       "      <td>605.000000</td>\n",
       "    </tr>\n",
       "    <tr>\n",
       "      <th>mean</th>\n",
       "      <td>303.000000</td>\n",
       "      <td>46.302479</td>\n",
       "      <td>1.530579</td>\n",
       "      <td>164.790083</td>\n",
       "      <td>86.403306</td>\n",
       "      <td>31.868711</td>\n",
       "      <td>109.440972</td>\n",
       "      <td>104.306020</td>\n",
       "      <td>127.276033</td>\n",
       "      <td>82.423140</td>\n",
       "      <td>...</td>\n",
       "      <td>2.884298</td>\n",
       "      <td>1.256198</td>\n",
       "      <td>5.082645</td>\n",
       "      <td>0.71405</td>\n",
       "      <td>0.676033</td>\n",
       "      <td>0.361983</td>\n",
       "      <td>0.178512</td>\n",
       "      <td>0.039669</td>\n",
       "      <td>1.112397</td>\n",
       "      <td>1.902479</td>\n",
       "    </tr>\n",
       "    <tr>\n",
       "      <th>std</th>\n",
       "      <td>174.792734</td>\n",
       "      <td>10.646148</td>\n",
       "      <td>0.499477</td>\n",
       "      <td>9.920240</td>\n",
       "      <td>14.379183</td>\n",
       "      <td>5.106853</td>\n",
       "      <td>10.588755</td>\n",
       "      <td>10.385775</td>\n",
       "      <td>15.314631</td>\n",
       "      <td>9.941857</td>\n",
       "      <td>...</td>\n",
       "      <td>1.042079</td>\n",
       "      <td>1.164663</td>\n",
       "      <td>1.597736</td>\n",
       "      <td>0.45224</td>\n",
       "      <td>0.468375</td>\n",
       "      <td>0.480972</td>\n",
       "      <td>0.383260</td>\n",
       "      <td>0.195343</td>\n",
       "      <td>0.316115</td>\n",
       "      <td>0.296911</td>\n",
       "    </tr>\n",
       "    <tr>\n",
       "      <th>min</th>\n",
       "      <td>1.000000</td>\n",
       "      <td>18.000000</td>\n",
       "      <td>1.000000</td>\n",
       "      <td>135.000000</td>\n",
       "      <td>48.000000</td>\n",
       "      <td>18.290000</td>\n",
       "      <td>63.000000</td>\n",
       "      <td>70.000000</td>\n",
       "      <td>90.000000</td>\n",
       "      <td>51.000000</td>\n",
       "      <td>...</td>\n",
       "      <td>0.000000</td>\n",
       "      <td>0.000000</td>\n",
       "      <td>1.000000</td>\n",
       "      <td>0.00000</td>\n",
       "      <td>0.000000</td>\n",
       "      <td>0.000000</td>\n",
       "      <td>0.000000</td>\n",
       "      <td>0.000000</td>\n",
       "      <td>1.000000</td>\n",
       "      <td>1.000000</td>\n",
       "    </tr>\n",
       "    <tr>\n",
       "      <th>25%</th>\n",
       "      <td>152.000000</td>\n",
       "      <td>38.000000</td>\n",
       "      <td>1.000000</td>\n",
       "      <td>157.000000</td>\n",
       "      <td>78.000000</td>\n",
       "      <td>28.610000</td>\n",
       "      <td>102.000000</td>\n",
       "      <td>98.000000</td>\n",
       "      <td>120.000000</td>\n",
       "      <td>80.000000</td>\n",
       "      <td>...</td>\n",
       "      <td>2.000000</td>\n",
       "      <td>0.000000</td>\n",
       "      <td>4.000000</td>\n",
       "      <td>0.00000</td>\n",
       "      <td>0.000000</td>\n",
       "      <td>0.000000</td>\n",
       "      <td>0.000000</td>\n",
       "      <td>0.000000</td>\n",
       "      <td>1.000000</td>\n",
       "      <td>2.000000</td>\n",
       "    </tr>\n",
       "    <tr>\n",
       "      <th>50%</th>\n",
       "      <td>303.000000</td>\n",
       "      <td>47.000000</td>\n",
       "      <td>2.000000</td>\n",
       "      <td>165.000000</td>\n",
       "      <td>85.000000</td>\n",
       "      <td>31.210000</td>\n",
       "      <td>108.000000</td>\n",
       "      <td>104.000000</td>\n",
       "      <td>121.000000</td>\n",
       "      <td>80.000000</td>\n",
       "      <td>...</td>\n",
       "      <td>3.000000</td>\n",
       "      <td>1.000000</td>\n",
       "      <td>5.000000</td>\n",
       "      <td>1.00000</td>\n",
       "      <td>1.000000</td>\n",
       "      <td>0.000000</td>\n",
       "      <td>0.000000</td>\n",
       "      <td>0.000000</td>\n",
       "      <td>1.000000</td>\n",
       "      <td>2.000000</td>\n",
       "    </tr>\n",
       "    <tr>\n",
       "      <th>75%</th>\n",
       "      <td>454.000000</td>\n",
       "      <td>54.000000</td>\n",
       "      <td>2.000000</td>\n",
       "      <td>172.000000</td>\n",
       "      <td>94.000000</td>\n",
       "      <td>34.520000</td>\n",
       "      <td>115.000000</td>\n",
       "      <td>110.000000</td>\n",
       "      <td>135.000000</td>\n",
       "      <td>90.000000</td>\n",
       "      <td>...</td>\n",
       "      <td>4.000000</td>\n",
       "      <td>2.000000</td>\n",
       "      <td>6.000000</td>\n",
       "      <td>1.00000</td>\n",
       "      <td>1.000000</td>\n",
       "      <td>1.000000</td>\n",
       "      <td>0.000000</td>\n",
       "      <td>0.000000</td>\n",
       "      <td>1.000000</td>\n",
       "      <td>2.000000</td>\n",
       "    </tr>\n",
       "    <tr>\n",
       "      <th>max</th>\n",
       "      <td>605.000000</td>\n",
       "      <td>71.000000</td>\n",
       "      <td>2.000000</td>\n",
       "      <td>193.000000</td>\n",
       "      <td>158.000000</td>\n",
       "      <td>56.000000</td>\n",
       "      <td>155.000000</td>\n",
       "      <td>147.000000</td>\n",
       "      <td>190.000000</td>\n",
       "      <td>120.000000</td>\n",
       "      <td>...</td>\n",
       "      <td>4.000000</td>\n",
       "      <td>4.000000</td>\n",
       "      <td>8.000000</td>\n",
       "      <td>1.00000</td>\n",
       "      <td>1.000000</td>\n",
       "      <td>1.000000</td>\n",
       "      <td>1.000000</td>\n",
       "      <td>1.000000</td>\n",
       "      <td>2.000000</td>\n",
       "      <td>2.000000</td>\n",
       "    </tr>\n",
       "  </tbody>\n",
       "</table>\n",
       "<p>8 rows × 62 columns</p>\n",
       "</div>"
      ],
      "text/plain": [
       "       Patient No.         Age  Gender (Female=1, Male=2)      Height  \\\n",
       "count   605.000000  605.000000                 605.000000  605.000000   \n",
       "mean    303.000000   46.302479                   1.530579  164.790083   \n",
       "std     174.792734   10.646148                   0.499477    9.920240   \n",
       "min       1.000000   18.000000                   1.000000  135.000000   \n",
       "25%     152.000000   38.000000                   1.000000  157.000000   \n",
       "50%     303.000000   47.000000                   2.000000  165.000000   \n",
       "75%     454.000000   54.000000                   2.000000  172.000000   \n",
       "max     605.000000   71.000000                   2.000000  193.000000   \n",
       "\n",
       "           Weight  Body Mass Index  Waist Circumference  Hip Circumference  \\\n",
       "count  605.000000       605.000000           576.000000         598.000000   \n",
       "mean    86.403306        31.868711           109.440972         104.306020   \n",
       "std     14.379183         5.106853            10.588755          10.385775   \n",
       "min     48.000000        18.290000            63.000000          70.000000   \n",
       "25%     78.000000        28.610000           102.000000          98.000000   \n",
       "50%     85.000000        31.210000           108.000000         104.000000   \n",
       "75%     94.000000        34.520000           115.000000         110.000000   \n",
       "max    158.000000        56.000000           155.000000         147.000000   \n",
       "\n",
       "       Systolic Blood Pressure  Diastolic Blood Pressure  ...    Activity  \\\n",
       "count               605.000000                605.000000  ...  605.000000   \n",
       "mean                127.276033                 82.423140  ...    2.884298   \n",
       "std                  15.314631                  9.941857  ...    1.042079   \n",
       "min                  90.000000                 51.000000  ...    0.000000   \n",
       "25%                 120.000000                 80.000000  ...    2.000000   \n",
       "50%                 121.000000                 80.000000  ...    3.000000   \n",
       "75%                 135.000000                 90.000000  ...    4.000000   \n",
       "max                 190.000000                120.000000  ...    4.000000   \n",
       "\n",
       "         Fibrosis  NAS score according to Kleiner  \\\n",
       "count  605.000000                      605.000000   \n",
       "mean     1.256198                        5.082645   \n",
       "std      1.164663                        1.597736   \n",
       "min      0.000000                        1.000000   \n",
       "25%      0.000000                        4.000000   \n",
       "50%      1.000000                        5.000000   \n",
       "75%      2.000000                        6.000000   \n",
       "max      4.000000                        8.000000   \n",
       "\n",
       "       NAS score>=4 and Fibrosis>=2 (If NAS score>=4 and Fibrosis>=2 = 1, If not = 0)  \\\n",
       "count                                          605.00000                                \n",
       "mean                                             0.71405                                \n",
       "std                                              0.45224                                \n",
       "min                                              0.00000                                \n",
       "25%                                              0.00000                                \n",
       "50%                                              1.00000                                \n",
       "75%                                              1.00000                                \n",
       "max                                              1.00000                                \n",
       "\n",
       "       Fibrosis status (No=0, Yes=1) (Fibrosis 1 and above, there is Fibrosis)  \\\n",
       "count                                         605.000000                         \n",
       "mean                                            0.676033                         \n",
       "std                                             0.468375                         \n",
       "min                                             0.000000                         \n",
       "25%                                             0.000000                         \n",
       "50%                                             1.000000                         \n",
       "75%                                             1.000000                         \n",
       "max                                             1.000000                         \n",
       "\n",
       "       Significant Fibrosis (No=0, Yes=1) (If Fibrosis 2 and above, there is Significant Fibrosis)  \\\n",
       "count                                         605.000000                                             \n",
       "mean                                            0.361983                                             \n",
       "std                                             0.480972                                             \n",
       "min                                             0.000000                                             \n",
       "25%                                             0.000000                                             \n",
       "50%                                             0.000000                                             \n",
       "75%                                             1.000000                                             \n",
       "max                                             1.000000                                             \n",
       "\n",
       "       Advanced Fibrosis (No=0, Yes=1) (If Fibrosis is 3 and above, there is Advanced Fibrosis)  \\\n",
       "count                                         605.000000                                          \n",
       "mean                                            0.178512                                          \n",
       "std                                             0.383260                                          \n",
       "min                                             0.000000                                          \n",
       "25%                                             0.000000                                          \n",
       "50%                                             0.000000                                          \n",
       "75%                                             0.000000                                          \n",
       "max                                             1.000000                                          \n",
       "\n",
       "       Cirrhosis (No=0, Yes=1) (If Fibrosis is 4, there is Cirrhosis)  \\\n",
       "count                                         605.000000                \n",
       "mean                                            0.039669                \n",
       "std                                             0.195343                \n",
       "min                                             0.000000                \n",
       "25%                                             0.000000                \n",
       "50%                                             0.000000                \n",
       "75%                                             0.000000                \n",
       "max                                             1.000000                \n",
       "\n",
       "       Diagnosis according to SAF (NASH=1, NAFL=2)  \\\n",
       "count                                   605.000000   \n",
       "mean                                      1.112397   \n",
       "std                                       0.316115   \n",
       "min                                       1.000000   \n",
       "25%                                       1.000000   \n",
       "50%                                       1.000000   \n",
       "75%                                       1.000000   \n",
       "max                                       2.000000   \n",
       "\n",
       "       Type of Disease (Mild illness=1, Severe illness=2)  \n",
       "count                                         605.000000   \n",
       "mean                                            1.902479   \n",
       "std                                             0.296911   \n",
       "min                                             1.000000   \n",
       "25%                                             2.000000   \n",
       "50%                                             2.000000   \n",
       "75%                                             2.000000   \n",
       "max                                             2.000000   \n",
       "\n",
       "[8 rows x 62 columns]"
      ]
     },
     "execution_count": 3,
     "metadata": {},
     "output_type": "execute_result"
    }
   ],
   "source": [
    "df.describe()"
   ]
  },
  {
   "cell_type": "code",
   "execution_count": 4,
   "metadata": {},
   "outputs": [
    {
     "data": {
      "image/png": "[encoded data removed]",
      "text/plain": [
       "<Figure size 640x480 with 1 Axes>"
      ]
     },
     "metadata": {},
     "output_type": "display_data"
    }
   ],
   "source": [
    "sns.countplot(x='Type of Disease (Mild illness=1, Severe illness=2)', data=df)\n",
    "plt.title(\"Distribution of the Target Variable\")\n",
    "plt.show()"
   ]
  },
  {
   "cell_type": "code",
   "execution_count": 5,
   "metadata": {},
   "outputs": [],
   "source": [
    "df = df.drop(columns=['Patient No.'])"
   ]
  },
  {
   "cell_type": "code",
   "execution_count": 6,
   "metadata": {},
   "outputs": [
    {
     "data": {
      "text/plain": [
       "Age                                                                                            0\n",
       "Gender (Female=1, Male=2)                                                                      0\n",
       "Height                                                                                         0\n",
       "Weight                                                                                         0\n",
       "Body Mass Index                                                                                0\n",
       "                                                                                              ..\n",
       "Significant Fibrosis (No=0, Yes=1) (If Fibrosis 2 and above, there is Significant Fibrosis)    0\n",
       "Advanced Fibrosis (No=0, Yes=1) (If Fibrosis is 3 and above, there is Advanced Fibrosis)       0\n",
       "Cirrhosis (No=0, Yes=1) (If Fibrosis is 4, there is Cirrhosis)                                 0\n",
       "Diagnosis according to SAF (NASH=1, NAFL=2)                                                    0\n",
       "Type of Disease (Mild illness=1, Severe illness=2)                                             0\n",
       "Length: 61, dtype: int64"
      ]
     },
     "execution_count": 6,
     "metadata": {},
     "output_type": "execute_result"
    }
   ],
   "source": [
    "df = df.replace([\"\", \" \", \"?\", \"-\", \"NULL\", \"nan\", \"NaN\", \"None\"], np.nan)\n",
    "df.isnull().sum()"
   ]
  },
  {
   "cell_type": "code",
   "execution_count": 7,
   "metadata": {},
   "outputs": [
    {
     "name": "stdout",
     "output_type": "stream",
     "text": [
      "Waist Circumference                                                                          29\n",
      "Hip Circumference                                                                             7\n",
      "Smoking Status (Never Smoked=1, Left Smoking=2, Smoking=3)                                   28\n",
      "ALP                                                                                           1\n",
      "GGT                                                                                           3\n",
      "LDH                                                                                          44\n",
      "Total Bilirubin                                                                               1\n",
      "Direct Bilirubin                                                                              1\n",
      "Total Protein                                                                                82\n",
      "Triglycerides                                                                                 1\n",
      "HDL                                                                                           1\n",
      "LDL                                                                                           3\n",
      "Microalbumin Spot Urine                                                                     422\n",
      "Microalbumin/Creatinine Ratio                                                               490\n",
      "TSH                                                                                         312\n",
      "CK                                                                                          452\n",
      "Leukocyte                                                                                     1\n",
      "Hemoglobin                                                                                    1\n",
      "Trombosit                                                                                     1\n",
      "Mean Corpuscular Volume                                                                       2\n",
      "Mean Platelet Volume                                                                         14\n",
      "PT                                                                                          368\n",
      "INR                                                                                         301\n",
      "Vitamin D                                                                                   412\n",
      "Ferritin                                                                                     17\n",
      "Ceruloplasmin                                                                               317\n",
      "C Peptide                                                                                   438\n",
      "Glucose                                                                                       4\n",
      "Insulin                                                                                     328\n",
      "HOMA                                                                                        328\n",
      "Insulin resistance according to HOMA (insulin resistance = 1, no insulin resistance = 2)    328\n",
      "Uric Acid                                                                                   351\n",
      "BUN                                                                                         300\n",
      "Creatinine                                                                                  300\n",
      "Hemoglobin - A1C                                                                             41\n",
      "dtype: int64\n"
     ]
    }
   ],
   "source": [
    "missing_values = df.isnull().sum()\n",
    "missing_value_columns = missing_values[missing_values > 0]\n",
    "print(missing_value_columns)"
   ]
  },
  {
   "cell_type": "code",
   "execution_count": 8,
   "metadata": {},
   "outputs": [
    {
     "name": "stdout",
     "output_type": "stream",
     "text": [
      "Microalbumin Spot Urine                                                                     69.752066\n",
      "Microalbumin/Creatinine Ratio                                                               80.991736\n",
      "TSH                                                                                         51.570248\n",
      "CK                                                                                          74.710744\n",
      "PT                                                                                          60.826446\n",
      "INR                                                                                         49.752066\n",
      "Vitamin D                                                                                   68.099174\n",
      "Ceruloplasmin                                                                               52.396694\n",
      "C Peptide                                                                                   72.396694\n",
      "Insulin                                                                                     54.214876\n",
      "HOMA                                                                                        54.214876\n",
      "Insulin resistance according to HOMA (insulin resistance = 1, no insulin resistance = 2)    54.214876\n",
      "Uric Acid                                                                                   58.016529\n",
      "BUN                                                                                         49.586777\n",
      "Creatinine                                                                                  49.586777\n",
      "dtype: float64\n"
     ]
    }
   ],
   "source": [
    "missing_percentage_columns = (df.isnull().sum() / len(df)) * 100\n",
    "columns_with_high_missing = missing_percentage_columns[missing_percentage_columns > 25]\n",
    "print(columns_with_high_missing)"
   ]
  },
  {
   "cell_type": "code",
   "execution_count": 9,
   "metadata": {},
   "outputs": [
    {
     "name": "stdout",
     "output_type": "stream",
     "text": [
      "Age                                                                                            0\n",
      "Gender (Female=1, Male=2)                                                                      0\n",
      "Height                                                                                         0\n",
      "Weight                                                                                         0\n",
      "Body Mass Index                                                                                0\n",
      "Systolic Blood Pressure                                                                        0\n",
      "Diastolic Blood Pressure                                                                       0\n",
      "Diyabetes Mellitus (No=0, Yes=1)                                                               0\n",
      "Hypertension (No=0, Yes=1)                                                                     0\n",
      "Hyperlipidemia (No=0, Yes=1)                                                                   0\n",
      "Metabolic syndrome (No=0, Yes=1)                                                               0\n",
      "AST                                                                                            0\n",
      "ALT                                                                                            0\n",
      "Albumin                                                                                        0\n",
      "Total Cholesterol                                                                              0\n",
      "Steatosis                                                                                      0\n",
      "Activity                                                                                       0\n",
      "Fibrosis                                                                                       0\n",
      "NAS score according to Kleiner                                                                 0\n",
      "NAS score>=4 and Fibrosis>=2 (If NAS score>=4 and Fibrosis>=2 = 1, If not = 0)                 0\n",
      "Fibrosis status (No=0, Yes=1) (Fibrosis 1 and above, there is Fibrosis)                        0\n",
      "Significant Fibrosis (No=0, Yes=1) (If Fibrosis 2 and above, there is Significant Fibrosis)    0\n",
      "Advanced Fibrosis (No=0, Yes=1) (If Fibrosis is 3 and above, there is Advanced Fibrosis)       0\n",
      "Cirrhosis (No=0, Yes=1) (If Fibrosis is 4, there is Cirrhosis)                                 0\n",
      "Diagnosis according to SAF (NASH=1, NAFL=2)                                                    0\n",
      "Type of Disease (Mild illness=1, Severe illness=2)                                             0\n",
      "dtype: int64\n"
     ]
    }
   ],
   "source": [
    "not_missing_value_columns = missing_values[missing_values <= 0]\n",
    "print(not_missing_value_columns)"
   ]
  },
  {
   "cell_type": "code",
   "execution_count": 10,
   "metadata": {},
   "outputs": [
    {
     "name": "stdout",
     "output_type": "stream",
     "text": [
      "float64    38\n",
      "int64      23\n",
      "Name: count, dtype: int64\n"
     ]
    }
   ],
   "source": [
    "print(df.dtypes.value_counts())"
   ]
  },
  {
   "cell_type": "code",
   "execution_count": 11,
   "metadata": {},
   "outputs": [],
   "source": [
    "special_calculated_columns = [\n",
    "    'BUN', 'Ceruloplasmin', 'Vitamin D', 'HOMA', 'Glucose', 'Insulin',\n",
    "    'Insulin resistance according to HOMA (insulin resistance = 1, no insulin resistance = 2)',\n",
    "    'NAS score>=4 and Fibrosis>=2 (If NAS score>=4 and Fibrosis>=2 = 1, If not = 0)',\n",
    "    'Diagnosis according to SAF (NASH=1, NAFL=2)'\n",
    "]\n",
    "\n",
    "remaining_columns = [col for col in df.columns if col not in special_calculated_columns]"
   ]
  },
  {
   "cell_type": "code",
   "execution_count": 12,
   "metadata": {},
   "outputs": [],
   "source": [
    "for col in remaining_columns:\n",
    "    df[col] = df[col].fillna(df[col].median())"
   ]
  },
  {
   "cell_type": "code",
   "execution_count": 13,
   "metadata": {},
   "outputs": [
    {
     "name": "stdout",
     "output_type": "stream",
     "text": [
      "Series([], dtype: int64)\n"
     ]
    }
   ],
   "source": [
    "remaining_columns_nulls = df[remaining_columns].isnull().sum()\n",
    "\n",
    "print(remaining_columns_nulls[remaining_columns_nulls > 0]) "
   ]
  },
  {
   "cell_type": "code",
   "execution_count": 14,
   "metadata": {},
   "outputs": [],
   "source": [
    "df['BUN'] = df['BUN'].fillna(df['BUN'].median())\n",
    "df['Ceruloplasmin'] = df['Ceruloplasmin'].fillna(df['Ceruloplasmin'].median())"
   ]
  },
  {
   "cell_type": "code",
   "execution_count": 15,
   "metadata": {},
   "outputs": [
    {
     "data": {
      "text/plain": [
       "0"
      ]
     },
     "execution_count": 15,
     "metadata": {},
     "output_type": "execute_result"
    }
   ],
   "source": [
    "df['BUN'].isnull().sum()\n",
    "df['Ceruloplasmin'].isnull().sum()"
   ]
  },
  {
   "cell_type": "code",
   "execution_count": 16,
   "metadata": {},
   "outputs": [
    {
     "name": "stderr",
     "output_type": "stream",
     "text": [
      "C:\\Users\\aycad\\AppData\\Roaming\\Python\\Python311\\site-packages\\numpy\\lib\\nanfunctions.py:1215: RuntimeWarning: Mean of empty slice\n",
      "  return np.nanmean(a, axis, out=out, keepdims=keepdims)\n",
      "C:\\Users\\aycad\\AppData\\Roaming\\Python\\Python311\\site-packages\\numpy\\lib\\nanfunctions.py:1215: RuntimeWarning: Mean of empty slice\n",
      "  return np.nanmean(a, axis, out=out, keepdims=keepdims)\n",
      "C:\\Users\\aycad\\AppData\\Roaming\\Python\\Python311\\site-packages\\numpy\\lib\\nanfunctions.py:1215: RuntimeWarning: Mean of empty slice\n",
      "  return np.nanmean(a, axis, out=out, keepdims=keepdims)\n",
      "C:\\Users\\aycad\\AppData\\Roaming\\Python\\Python311\\site-packages\\numpy\\lib\\nanfunctions.py:1215: RuntimeWarning: Mean of empty slice\n",
      "  return np.nanmean(a, axis, out=out, keepdims=keepdims)\n",
      "C:\\Users\\aycad\\AppData\\Roaming\\Python\\Python311\\site-packages\\numpy\\lib\\nanfunctions.py:1215: RuntimeWarning: Mean of empty slice\n",
      "  return np.nanmean(a, axis, out=out, keepdims=keepdims)\n"
     ]
    }
   ],
   "source": [
    "df['Vitamin D'] = df.groupby('Age')['Vitamin D'].transform(lambda x: x.fillna(x.median()))"
   ]
  },
  {
   "cell_type": "code",
   "execution_count": 17,
   "metadata": {},
   "outputs": [
    {
     "data": {
      "text/plain": [
       "10"
      ]
     },
     "execution_count": 17,
     "metadata": {},
     "output_type": "execute_result"
    }
   ],
   "source": [
    "df['Vitamin D'].isnull().sum()"
   ]
  },
  {
   "cell_type": "code",
   "execution_count": 18,
   "metadata": {},
   "outputs": [],
   "source": [
    "df['Vitamin D'] = df['Vitamin D'].fillna(df['Vitamin D'].median())"
   ]
  },
  {
   "cell_type": "code",
   "execution_count": 19,
   "metadata": {},
   "outputs": [
    {
     "data": {
      "text/plain": [
       "0"
      ]
     },
     "execution_count": 19,
     "metadata": {},
     "output_type": "execute_result"
    }
   ],
   "source": [
    "df['Vitamin D'].isnull().sum()"
   ]
  },
  {
   "cell_type": "code",
   "execution_count": 20,
   "metadata": {},
   "outputs": [],
   "source": [
    "df['Glucose'] = df['Glucose'].fillna(df['Glucose'].median())\n",
    "df['Insulin'] = df['Insulin'].fillna(df['Insulin'].median())\n",
    "\n",
    "df['HOMA'] = (df['Glucose'] * df['Insulin']) / 405"
   ]
  },
  {
   "cell_type": "code",
   "execution_count": 21,
   "metadata": {},
   "outputs": [
    {
     "data": {
      "text/plain": [
       "0"
      ]
     },
     "execution_count": 21,
     "metadata": {},
     "output_type": "execute_result"
    }
   ],
   "source": [
    "df['Glucose'].isnull().sum()\n",
    "df['Insulin'].isnull().sum()\n",
    "df['HOMA'].isnull().sum()"
   ]
  },
  {
   "cell_type": "code",
   "execution_count": 22,
   "metadata": {},
   "outputs": [],
   "source": [
    "df['Insulin resistance according to HOMA (insulin resistance = 1, no insulin resistance = 2)'] = df['HOMA'].apply(lambda x: 1 if x >= 2.5 else 2)"
   ]
  },
  {
   "cell_type": "code",
   "execution_count": 23,
   "metadata": {},
   "outputs": [
    {
     "data": {
      "text/plain": [
       "0"
      ]
     },
     "execution_count": 23,
     "metadata": {},
     "output_type": "execute_result"
    }
   ],
   "source": [
    "df['Insulin resistance according to HOMA (insulin resistance = 1, no insulin resistance = 2)'].isnull().sum()"
   ]
  },
  {
   "cell_type": "code",
   "execution_count": 25,
   "metadata": {},
   "outputs": [],
   "source": [
    "df['NAS score>=4 and Fibrosis>=2'] = df.apply(lambda row: 1 if row['NAS score according to Kleiner'] >= 4 and row['Fibrosis'] >= 2 else 0, axis=1)"
   ]
  },
  {
   "cell_type": "code",
   "execution_count": 26,
   "metadata": {},
   "outputs": [
    {
     "data": {
      "text/plain": [
       "0"
      ]
     },
     "execution_count": 26,
     "metadata": {},
     "output_type": "execute_result"
    }
   ],
   "source": [
    "df['NAS score>=4 and Fibrosis>=2'].isnull().sum()"
   ]
  },
  {
   "cell_type": "code",
   "execution_count": 27,
   "metadata": {},
   "outputs": [],
   "source": [
    "df['Diagnosis according to SAF'] = df['NAS score according to Kleiner'].apply(lambda x: 1 if x >= 5 else 2)"
   ]
  },
  {
   "cell_type": "code",
   "execution_count": 28,
   "metadata": {},
   "outputs": [
    {
     "data": {
      "text/plain": [
       "0"
      ]
     },
     "execution_count": 28,
     "metadata": {},
     "output_type": "execute_result"
    }
   ],
   "source": [
    "df['Diagnosis according to SAF'].isnull().sum()"
   ]
  },
  {
   "cell_type": "code",
   "execution_count": 29,
   "metadata": {},
   "outputs": [
    {
     "name": "stdout",
     "output_type": "stream",
     "text": [
      "Series([], dtype: int64)\n"
     ]
    }
   ],
   "source": [
    "missing_values = df.isnull().sum()\n",
    "missing_columns = missing_values[missing_values > 0]\n",
    "print(missing_columns)"
   ]
  },
  {
   "cell_type": "code",
   "execution_count": 30,
   "metadata": {},
   "outputs": [
    {
     "name": "stdout",
     "output_type": "stream",
     "text": [
      "Index([], dtype='object')\n"
     ]
    }
   ],
   "source": [
    "print(df.columns[df.columns.duplicated()])"
   ]
  },
  {
   "cell_type": "code",
   "execution_count": 31,
   "metadata": {},
   "outputs": [
    {
     "name": "stdout",
     "output_type": "stream",
     "text": [
      "                                                         Age  \\\n",
      "Age                                                 1.000000   \n",
      "Gender (Female=1, Male=2)                          -0.294882   \n",
      "Height                                             -0.327083   \n",
      "Weight                                             -0.117581   \n",
      "Body Mass Index                                     0.121053   \n",
      "...                                                      ...   \n",
      "Cirrhosis (No=0, Yes=1) (If Fibrosis is 4, ther...  0.170957   \n",
      "Diagnosis according to SAF (NASH=1, NAFL=2)        -0.032749   \n",
      "Type of Disease (Mild illness=1, Severe illness=2) -0.007413   \n",
      "NAS score>=4 and Fibrosis>=2                        0.221807   \n",
      "Diagnosis according to SAF                         -0.006789   \n",
      "\n",
      "                                                    Gender (Female=1, Male=2)  \\\n",
      "Age                                                                 -0.294882   \n",
      "Gender (Female=1, Male=2)                                            1.000000   \n",
      "Height                                                               0.748931   \n",
      "Weight                                                               0.275368   \n",
      "Body Mass Index                                                     -0.283085   \n",
      "...                                                                       ...   \n",
      "Cirrhosis (No=0, Yes=1) (If Fibrosis is 4, ther...                  -0.080328   \n",
      "Diagnosis according to SAF (NASH=1, NAFL=2)                          0.072569   \n",
      "Type of Disease (Mild illness=1, Severe illness=2)                  -0.063589   \n",
      "NAS score>=4 and Fibrosis>=2                                        -0.082821   \n",
      "Diagnosis according to SAF                                           0.035081   \n",
      "\n",
      "                                                      Height    Weight  \\\n",
      "Age                                                -0.327083 -0.117581   \n",
      "Gender (Female=1, Male=2)                           0.748931  0.275368   \n",
      "Height                                              1.000000  0.439802   \n",
      "Weight                                              0.439802  1.000000   \n",
      "Body Mass Index                                    -0.296724  0.719885   \n",
      "...                                                      ...       ...   \n",
      "Cirrhosis (No=0, Yes=1) (If Fibrosis is 4, ther... -0.038414  0.100981   \n",
      "Diagnosis according to SAF (NASH=1, NAFL=2)         0.027598 -0.068631   \n",
      "Type of Disease (Mild illness=1, Severe illness=2) -0.020452  0.079419   \n",
      "NAS score>=4 and Fibrosis>=2                       -0.096833  0.076382   \n",
      "Diagnosis according to SAF                         -0.013544 -0.031405   \n",
      "\n",
      "                                                    Body Mass Index  \\\n",
      "Age                                                        0.121053   \n",
      "Gender (Female=1, Male=2)                                 -0.283085   \n",
      "Height                                                    -0.296724   \n",
      "Weight                                                     0.719885   \n",
      "Body Mass Index                                            1.000000   \n",
      "...                                                             ...   \n",
      "Cirrhosis (No=0, Yes=1) (If Fibrosis is 4, ther...         0.126914   \n",
      "Diagnosis according to SAF (NASH=1, NAFL=2)               -0.096190   \n",
      "Type of Disease (Mild illness=1, Severe illness=2)         0.101660   \n",
      "NAS score>=4 and Fibrosis>=2                               0.145548   \n",
      "Diagnosis according to SAF                                -0.024441   \n",
      "\n",
      "                                                    Waist Circumference  \\\n",
      "Age                                                            0.096609   \n",
      "Gender (Female=1, Male=2)                                     -0.321139   \n",
      "Height                                                        -0.189447   \n",
      "Weight                                                         0.584929   \n",
      "Body Mass Index                                                0.786405   \n",
      "...                                                                 ...   \n",
      "Cirrhosis (No=0, Yes=1) (If Fibrosis is 4, ther...             0.112401   \n",
      "Diagnosis according to SAF (NASH=1, NAFL=2)                   -0.061459   \n",
      "Type of Disease (Mild illness=1, Severe illness=2)             0.066326   \n",
      "NAS score>=4 and Fibrosis>=2                                   0.035769   \n",
      "Diagnosis according to SAF                                    -0.002845   \n",
      "\n",
      "                                                    Hip Circumference  \\\n",
      "Age                                                          0.113270   \n",
      "Gender (Female=1, Male=2)                                   -0.007093   \n",
      "Height                                                       0.054057   \n",
      "Weight                                                       0.755648   \n",
      "Body Mass Index                                              0.756346   \n",
      "...                                                               ...   \n",
      "Cirrhosis (No=0, Yes=1) (If Fibrosis is 4, ther...           0.147537   \n",
      "Diagnosis according to SAF (NASH=1, NAFL=2)                 -0.088040   \n",
      "Type of Disease (Mild illness=1, Severe illness=2)           0.098745   \n",
      "NAS score>=4 and Fibrosis>=2                                 0.139749   \n",
      "Diagnosis according to SAF                                  -0.088017   \n",
      "\n",
      "                                                    Systolic Blood Pressure  \\\n",
      "Age                                                                0.202752   \n",
      "Gender (Female=1, Male=2)                                         -0.152290   \n",
      "Height                                                            -0.094646   \n",
      "Weight                                                             0.162146   \n",
      "Body Mass Index                                                    0.247613   \n",
      "...                                                                     ...   \n",
      "Cirrhosis (No=0, Yes=1) (If Fibrosis is 4, ther...                 0.026219   \n",
      "Diagnosis according to SAF (NASH=1, NAFL=2)                       -0.108674   \n",
      "Type of Disease (Mild illness=1, Severe illness=2)                 0.103875   \n",
      "NAS score>=4 and Fibrosis>=2                                       0.091843   \n",
      "Diagnosis according to SAF                                        -0.085730   \n",
      "\n",
      "                                                    Diastolic Blood Pressure  \\\n",
      "Age                                                                 0.071354   \n",
      "Gender (Female=1, Male=2)                                          -0.058956   \n",
      "Height                                                             -0.014122   \n",
      "Weight                                                              0.179822   \n",
      "Body Mass Index                                                     0.205907   \n",
      "...                                                                      ...   \n",
      "Cirrhosis (No=0, Yes=1) (If Fibrosis is 4, ther...                 -0.064070   \n",
      "Diagnosis according to SAF (NASH=1, NAFL=2)                        -0.025694   \n",
      "Type of Disease (Mild illness=1, Severe illness=2)                  0.002224   \n",
      "NAS score>=4 and Fibrosis>=2                                        0.018393   \n",
      "Diagnosis according to SAF                                         -0.076910   \n",
      "\n",
      "                                                    Diyabetes Mellitus (No=0, Yes=1)  \\\n",
      "Age                                                                         0.286761   \n",
      "Gender (Female=1, Male=2)                                                  -0.187628   \n",
      "Height                                                                     -0.194171   \n",
      "Weight                                                                      0.044336   \n",
      "Body Mass Index                                                             0.194433   \n",
      "...                                                                              ...   \n",
      "Cirrhosis (No=0, Yes=1) (If Fibrosis is 4, ther...                          0.194043   \n",
      "Diagnosis according to SAF (NASH=1, NAFL=2)                                -0.078925   \n",
      "Type of Disease (Mild illness=1, Severe illness=2)                          0.080028   \n",
      "NAS score>=4 and Fibrosis>=2                                                0.282451   \n",
      "Diagnosis according to SAF                                                 -0.075141   \n",
      "\n",
      "                                                    ...  \\\n",
      "Age                                                 ...   \n",
      "Gender (Female=1, Male=2)                           ...   \n",
      "Height                                              ...   \n",
      "Weight                                              ...   \n",
      "Body Mass Index                                     ...   \n",
      "...                                                 ...   \n",
      "Cirrhosis (No=0, Yes=1) (If Fibrosis is 4, ther...  ...   \n",
      "Diagnosis according to SAF (NASH=1, NAFL=2)         ...   \n",
      "Type of Disease (Mild illness=1, Severe illness=2)  ...   \n",
      "NAS score>=4 and Fibrosis>=2                        ...   \n",
      "Diagnosis according to SAF                          ...   \n",
      "\n",
      "                                                    NAS score according to Kleiner  \\\n",
      "Age                                                                       0.021985   \n",
      "Gender (Female=1, Male=2)                                                -0.061262   \n",
      "Height                                                                   -0.023033   \n",
      "Weight                                                                    0.054037   \n",
      "Body Mass Index                                                           0.070344   \n",
      "...                                                                            ...   \n",
      "Cirrhosis (No=0, Yes=1) (If Fibrosis is 4, ther...                        0.016002   \n",
      "Diagnosis according to SAF (NASH=1, NAFL=2)                              -0.533072   \n",
      "Type of Disease (Mild illness=1, Severe illness=2)                        0.537035   \n",
      "NAS score>=4 and Fibrosis>=2                                              0.384802   \n",
      "Diagnosis according to SAF                                               -0.819994   \n",
      "\n",
      "                                                    NAS score>=4 and Fibrosis>=2 (If NAS score>=4 and Fibrosis>=2 = 1, If not = 0)  \\\n",
      "Age                                                                                         -0.045966                                \n",
      "Gender (Female=1, Male=2)                                                                    0.005791                                \n",
      "Height                                                                                       0.042692                                \n",
      "Weight                                                                                       0.047043                                \n",
      "Body Mass Index                                                                              0.007496                                \n",
      "...                                                                                               ...                                \n",
      "Cirrhosis (No=0, Yes=1) (If Fibrosis is 4, ther...                                          -0.040053                                \n",
      "Diagnosis according to SAF (NASH=1, NAFL=2)                                                 -0.353864                                \n",
      "Type of Disease (Mild illness=1, Severe illness=2)                                           0.396154                                \n",
      "NAS score>=4 and Fibrosis>=2                                                                 0.282806                                \n",
      "Diagnosis according to SAF                                                                  -0.695886                                \n",
      "\n",
      "                                                    Fibrosis status (No=0, Yes=1) (Fibrosis 1 and above, there is Fibrosis)  \\\n",
      "Age                                                                                          0.131911                         \n",
      "Gender (Female=1, Male=2)                                                                   -0.169897                         \n",
      "Height                                                                                      -0.127616                         \n",
      "Weight                                                                                       0.080152                         \n",
      "Body Mass Index                                                                              0.165740                         \n",
      "...                                                                                               ...                         \n",
      "Cirrhosis (No=0, Yes=1) (If Fibrosis is 4, ther...                                           0.140697                         \n",
      "Diagnosis according to SAF (NASH=1, NAFL=2)                                                 -0.167399                         \n",
      "Type of Disease (Mild illness=1, Severe illness=2)                                           0.189128                         \n",
      "NAS score>=4 and Fibrosis>=2                                                                 0.502912                         \n",
      "Diagnosis according to SAF                                                                  -0.345671                         \n",
      "\n",
      "                                                    Significant Fibrosis (No=0, Yes=1) (If Fibrosis 2 and above, there is Significant Fibrosis)  \\\n",
      "Age                                                                                          0.236602                                             \n",
      "Gender (Female=1, Male=2)                                                                   -0.084056                                             \n",
      "Height                                                                                      -0.096127                                             \n",
      "Weight                                                                                       0.083231                                             \n",
      "Body Mass Index                                                                              0.151655                                             \n",
      "...                                                                                               ...                                             \n",
      "Cirrhosis (No=0, Yes=1) (If Fibrosis is 4, ther...                                           0.269829                                             \n",
      "Diagnosis according to SAF (NASH=1, NAFL=2)                                                 -0.213591                                             \n",
      "Type of Disease (Mild illness=1, Severe illness=2)                                           0.247604                                             \n",
      "NAS score>=4 and Fibrosis>=2                                                                 0.964489                                             \n",
      "Diagnosis according to SAF                                                                  -0.269757                                             \n",
      "\n",
      "                                                    Advanced Fibrosis (No=0, Yes=1) (If Fibrosis is 3 and above, there is Advanced Fibrosis)  \\\n",
      "Age                                                                                          0.229799                                          \n",
      "Gender (Female=1, Male=2)                                                                   -0.115050                                          \n",
      "Height                                                                                      -0.125120                                          \n",
      "Weight                                                                                       0.075239                                          \n",
      "Body Mass Index                                                                              0.166048                                          \n",
      "...                                                                                               ...                                          \n",
      "Cirrhosis (No=0, Yes=1) (If Fibrosis is 4, ther...                                           0.435997                                          \n",
      "Diagnosis according to SAF (NASH=1, NAFL=2)                                                 -0.152217                                          \n",
      "Type of Disease (Mild illness=1, Severe illness=2)                                           0.153237                                          \n",
      "NAS score>=4 and Fibrosis>=2                                                                 0.578125                                          \n",
      "Diagnosis according to SAF                                                                  -0.169056                                          \n",
      "\n",
      "                                                    Cirrhosis (No=0, Yes=1) (If Fibrosis is 4, there is Cirrhosis)  \\\n",
      "Age                                                                                          0.170957                \n",
      "Gender (Female=1, Male=2)                                                                   -0.080328                \n",
      "Height                                                                                      -0.038414                \n",
      "Weight                                                                                       0.100981                \n",
      "Body Mass Index                                                                              0.126914                \n",
      "...                                                                                               ...                \n",
      "Cirrhosis (No=0, Yes=1) (If Fibrosis is 4, ther...                                           1.000000                \n",
      "Diagnosis according to SAF (NASH=1, NAFL=2)                                                 -0.072324                \n",
      "Type of Disease (Mild illness=1, Severe illness=2)                                           0.066811                \n",
      "NAS score>=4 and Fibrosis>=2                                                                 0.190719                \n",
      "Diagnosis according to SAF                                                                   0.011190                \n",
      "\n",
      "                                                    Diagnosis according to SAF (NASH=1, NAFL=2)  \\\n",
      "Age                                                                                   -0.032749   \n",
      "Gender (Female=1, Male=2)                                                              0.072569   \n",
      "Height                                                                                 0.027598   \n",
      "Weight                                                                                -0.068631   \n",
      "Body Mass Index                                                                       -0.096190   \n",
      "...                                                                                         ...   \n",
      "Cirrhosis (No=0, Yes=1) (If Fibrosis is 4, ther...                                    -0.072324   \n",
      "Diagnosis according to SAF (NASH=1, NAFL=2)                                            1.000000   \n",
      "Type of Disease (Mild illness=1, Severe illness=2)                                    -0.923767   \n",
      "NAS score>=4 and Fibrosis>=2                                                          -0.214499   \n",
      "Diagnosis according to SAF                                                             0.453325   \n",
      "\n",
      "                                                    Type of Disease (Mild illness=1, Severe illness=2)  \\\n",
      "Age                                                                                         -0.007413    \n",
      "Gender (Female=1, Male=2)                                                                   -0.063589    \n",
      "Height                                                                                      -0.020452    \n",
      "Weight                                                                                       0.079419    \n",
      "Body Mass Index                                                                              0.101660    \n",
      "...                                                                                               ...    \n",
      "Cirrhosis (No=0, Yes=1) (If Fibrosis is 4, ther...                                           0.066811    \n",
      "Diagnosis according to SAF (NASH=1, NAFL=2)                                                 -0.923767    \n",
      "Type of Disease (Mild illness=1, Severe illness=2)                                           1.000000    \n",
      "NAS score>=4 and Fibrosis>=2                                                                 0.238811    \n",
      "Diagnosis according to SAF                                                                  -0.449197    \n",
      "\n",
      "                                                    NAS score>=4 and Fibrosis>=2  \\\n",
      "Age                                                                     0.221807   \n",
      "Gender (Female=1, Male=2)                                              -0.082821   \n",
      "Height                                                                 -0.096833   \n",
      "Weight                                                                  0.076382   \n",
      "Body Mass Index                                                         0.145548   \n",
      "...                                                                          ...   \n",
      "Cirrhosis (No=0, Yes=1) (If Fibrosis is 4, ther...                      0.190719   \n",
      "Diagnosis according to SAF (NASH=1, NAFL=2)                            -0.214499   \n",
      "Type of Disease (Mild illness=1, Severe illness=2)                      0.238811   \n",
      "NAS score>=4 and Fibrosis>=2                                            1.000000   \n",
      "Diagnosis according to SAF                                             -0.320125   \n",
      "\n",
      "                                                    Diagnosis according to SAF  \n",
      "Age                                                                  -0.006789  \n",
      "Gender (Female=1, Male=2)                                             0.035081  \n",
      "Height                                                               -0.013544  \n",
      "Weight                                                               -0.031405  \n",
      "Body Mass Index                                                      -0.024441  \n",
      "...                                                                        ...  \n",
      "Cirrhosis (No=0, Yes=1) (If Fibrosis is 4, ther...                    0.011190  \n",
      "Diagnosis according to SAF (NASH=1, NAFL=2)                           0.453325  \n",
      "Type of Disease (Mild illness=1, Severe illness=2)                   -0.449197  \n",
      "NAS score>=4 and Fibrosis>=2                                         -0.320125  \n",
      "Diagnosis according to SAF                                            1.000000  \n",
      "\n",
      "[63 rows x 63 columns]\n"
     ]
    }
   ],
   "source": [
    "correlation_matrix = df.corr()\n",
    "print(correlation_matrix)"
   ]
  },
  {
   "cell_type": "code",
   "execution_count": 32,
   "metadata": {},
   "outputs": [
    {
     "name": "stdout",
     "output_type": "stream",
     "text": [
      "{'Microalbumin Spot Urine', 'Height', 'PT', 'C Peptide', 'BUN', 'INR', 'Diagnosis according to SAF (NASH=1, NAFL=2)', 'Steatosis', 'TSH', 'Age', 'Waist Circumference', 'Albumin', 'Trombosit', 'Hemoglobin', 'Total Protein', 'Glucose', 'Activity', 'Body Mass Index', 'Diastolic Blood Pressure', 'CK', 'Hyperlipidemia (No=0, Yes=1)', 'Total Bilirubin', 'LDH', 'Ferritin', 'Weight', 'Metabolic syndrome (No=0, Yes=1)', 'Advanced Fibrosis (No=0, Yes=1) (If Fibrosis is 3 and above, there is Advanced Fibrosis)', 'Mean Platelet Volume', 'Insulin', 'GGT', 'HDL', 'Insulin resistance according to HOMA (insulin resistance = 1, no insulin resistance = 2)', 'NAS score according to Kleiner', 'Mean Corpuscular Volume', 'LDL', 'Fibrosis status (No=0, Yes=1) (Fibrosis 1 and above, there is Fibrosis)', 'Vitamin D', 'HOMA', 'Systolic Blood Pressure', 'ALP', 'Ceruloplasmin', 'Hemoglobin - A1C', 'Diyabetes Mellitus (No=0, Yes=1)', 'Cirrhosis (No=0, Yes=1) (If Fibrosis is 4, there is Cirrhosis)', 'Uric Acid', 'Significant Fibrosis (No=0, Yes=1) (If Fibrosis 2 and above, there is Significant Fibrosis)', 'Fibrosis', 'Diagnosis according to SAF', 'Creatinine', 'Hypertension (No=0, Yes=1)', 'Direct Bilirubin', 'Leukocyte', 'NAS score>=4 and Fibrosis>=2 (If NAS score>=4 and Fibrosis>=2 = 1, If not = 0)', 'AST', 'Hip Circumference', 'ALT', 'Total Cholesterol', 'Gender (Female=1, Male=2)', 'Microalbumin/Creatinine Ratio', 'Type of Disease (Mild illness=1, Severe illness=2)', 'Smoking Status (Never Smoked=1, Left Smoking=2, Smoking=3)', 'NAS score>=4 and Fibrosis>=2', 'Triglycerides'}\n",
      "{'Microalbumin Spot Urine', 'Height', 'PT', 'C Peptide', 'BUN', 'INR', 'Diagnosis according to SAF (NASH=1, NAFL=2)', 'Steatosis', 'TSH', 'Age', 'Waist Circumference', 'Albumin', 'Trombosit', 'Hemoglobin', 'Total Protein', 'Glucose', 'Activity', 'Body Mass Index', 'Diastolic Blood Pressure', 'CK', 'Hyperlipidemia (No=0, Yes=1)', 'Total Bilirubin', 'LDH', 'Ferritin', 'Weight', 'Metabolic syndrome (No=0, Yes=1)', 'Advanced Fibrosis (No=0, Yes=1) (If Fibrosis is 3 and above, there is Advanced Fibrosis)', 'Mean Platelet Volume', 'Insulin', 'GGT', 'HDL', 'Insulin resistance according to HOMA (insulin resistance = 1, no insulin resistance = 2)', 'NAS score according to Kleiner', 'Mean Corpuscular Volume', 'LDL', 'Fibrosis status (No=0, Yes=1) (Fibrosis 1 and above, there is Fibrosis)', 'Vitamin D', 'HOMA', 'Systolic Blood Pressure', 'ALP', 'Ceruloplasmin', 'Hemoglobin - A1C', 'Diyabetes Mellitus (No=0, Yes=1)', 'Cirrhosis (No=0, Yes=1) (If Fibrosis is 4, there is Cirrhosis)', 'Uric Acid', 'Significant Fibrosis (No=0, Yes=1) (If Fibrosis 2 and above, there is Significant Fibrosis)', 'Fibrosis', 'Diagnosis according to SAF', 'Creatinine', 'Hypertension (No=0, Yes=1)', 'Direct Bilirubin', 'Leukocyte', 'NAS score>=4 and Fibrosis>=2 (If NAS score>=4 and Fibrosis>=2 = 1, If not = 0)', 'AST', 'Hip Circumference', 'ALT', 'Total Cholesterol', 'Gender (Female=1, Male=2)', 'Microalbumin/Creatinine Ratio', 'Type of Disease (Mild illness=1, Severe illness=2)', 'Smoking Status (Never Smoked=1, Left Smoking=2, Smoking=3)', 'NAS score>=4 and Fibrosis>=2', 'Triglycerides'}\n"
     ]
    }
   ],
   "source": [
    "print(set(df.corr().columns))\n",
    "print(set(df.columns))"
   ]
  },
  {
   "cell_type": "code",
   "execution_count": 33,
   "metadata": {},
   "outputs": [
    {
     "name": "stdout",
     "output_type": "stream",
     "text": [
      "Type of Disease (Mild illness=1, Severe illness=2)                                             1.000000\n",
      "Activity                                                                                       0.664455\n",
      "NAS score according to Kleiner                                                                 0.537035\n",
      "NAS score>=4 and Fibrosis>=2 (If NAS score>=4 and Fibrosis>=2 = 1, If not = 0)                 0.396154\n",
      "Significant Fibrosis (No=0, Yes=1) (If Fibrosis 2 and above, there is Significant Fibrosis)    0.247604\n",
      "                                                                                                 ...   \n",
      "Creatinine                                                                                    -0.134385\n",
      "Insulin resistance according to HOMA (insulin resistance = 1, no insulin resistance = 2)      -0.180069\n",
      "BUN                                                                                           -0.233334\n",
      "Diagnosis according to SAF                                                                    -0.449197\n",
      "Diagnosis according to SAF (NASH=1, NAFL=2)                                                   -0.923767\n",
      "Name: Type of Disease (Mild illness=1, Severe illness=2), Length: 63, dtype: float64\n"
     ]
    }
   ],
   "source": [
    "target_correlation = correlation_matrix['Type of Disease (Mild illness=1, Severe illness=2)'].sort_values(ascending=False)\n",
    "print(target_correlation)"
   ]
  },
  {
   "cell_type": "code",
   "execution_count": 34,
   "metadata": {},
   "outputs": [
    {
     "name": "stdout",
     "output_type": "stream",
     "text": [
      "Index(['ALP', 'Total Bilirubin', 'Metabolic syndrome (No=0, Yes=1)',\n",
      "       'Mean Platelet Volume', 'Microalbumin/Creatinine Ratio',\n",
      "       'Microalbumin Spot Urine', 'Total Cholesterol', 'Vitamin D',\n",
      "       'C Peptide', 'Ferritin', 'Leukocyte', 'Diastolic Blood Pressure',\n",
      "       'Triglycerides', 'Age', 'Albumin', 'GGT', 'HDL', 'Height', 'PT', 'LDL'],\n",
      "      dtype='object')\n"
     ]
    }
   ],
   "source": [
    "low_correlation_columns = target_correlation[target_correlation.abs() < 0.05].index\n",
    "print(low_correlation_columns)"
   ]
  },
  {
   "cell_type": "code",
   "execution_count": 35,
   "metadata": {},
   "outputs": [],
   "source": [
    "columns_to_drop = ['Height', 'Diastolic Blood Pressure', 'Metabolic syndrome (No=0, Yes=1)', \n",
    "                   'Mean Platelet Volume', 'Leukocyte', 'ALP', 'Total Bilirubin', \n",
    "                   'Microalbumin Spot Urine', 'PT']\n",
    "\n",
    "df = df.drop(columns=columns_to_drop)"
   ]
  },
  {
   "cell_type": "code",
   "execution_count": 36,
   "metadata": {},
   "outputs": [
    {
     "data": {
      "text/plain": [
       "(605, 54)"
      ]
     },
     "execution_count": 36,
     "metadata": {},
     "output_type": "execute_result"
    }
   ],
   "source": [
    "df.shape"
   ]
  },
  {
   "cell_type": "code",
   "execution_count": 37,
   "metadata": {},
   "outputs": [],
   "source": [
    "high_corr_pairs = correlation_matrix.unstack().sort_values(ascending=False)\n",
    "high_corr_pairs = high_corr_pairs[high_corr_pairs != 1] \n",
    "high_corr_pairs = high_corr_pairs[high_corr_pairs > 0.8]"
   ]
  },
  {
   "cell_type": "code",
   "execution_count": 38,
   "metadata": {},
   "outputs": [
    {
     "name": "stdout",
     "output_type": "stream",
     "text": [
      "NAS score>=4 and Fibrosis>=2                                                                 Significant Fibrosis (No=0, Yes=1) (If Fibrosis 2 and above, there is Significant Fibrosis)    0.964489\n",
      "Significant Fibrosis (No=0, Yes=1) (If Fibrosis 2 and above, there is Significant Fibrosis)  NAS score>=4 and Fibrosis>=2                                                                   0.964489\n",
      "                                                                                             Fibrosis                                                                                       0.871580\n",
      "Fibrosis                                                                                     Significant Fibrosis (No=0, Yes=1) (If Fibrosis 2 and above, there is Significant Fibrosis)    0.871580\n",
      "Activity                                                                                     NAS score according to Kleiner                                                                 0.866896\n",
      "NAS score according to Kleiner                                                               Activity                                                                                       0.866896\n",
      "HOMA                                                                                         Insulin                                                                                        0.837271\n",
      "Insulin                                                                                      HOMA                                                                                           0.837271\n",
      "NAS score>=4 and Fibrosis>=2                                                                 Fibrosis                                                                                       0.822789\n",
      "Fibrosis                                                                                     NAS score>=4 and Fibrosis>=2                                                                   0.822789\n",
      "ALT                                                                                          AST                                                                                            0.817135\n",
      "AST                                                                                          ALT                                                                                            0.817135\n",
      "NAS score>=4 and Fibrosis>=2 (If NAS score>=4 and Fibrosis>=2 = 1, If not = 0)               Steatosis                                                                                      0.800446\n",
      "Steatosis                                                                                    NAS score>=4 and Fibrosis>=2 (If NAS score>=4 and Fibrosis>=2 = 1, If not = 0)                 0.800446\n",
      "dtype: float64\n"
     ]
    }
   ],
   "source": [
    "print(high_corr_pairs)"
   ]
  },
  {
   "cell_type": "code",
   "execution_count": 39,
   "metadata": {},
   "outputs": [],
   "source": [
    "columns_to_drop = [\n",
    "    'Significant Fibrosis (No=0, Yes=1) (If Fibrosis 2 and above, there is Significant Fibrosis)',\n",
    "    'Activity',\n",
    "    'Insulin',\n",
    "    'AST',\n",
    "    'Steatosis'\n",
    "]\n",
    "\n",
    "df = df.drop(columns=columns_to_drop)"
   ]
  },
  {
   "cell_type": "code",
   "execution_count": 40,
   "metadata": {},
   "outputs": [
    {
     "data": {
      "text/plain": [
       "(605, 49)"
      ]
     },
     "execution_count": 40,
     "metadata": {},
     "output_type": "execute_result"
    }
   ],
   "source": [
    "df.shape"
   ]
  },
  {
   "cell_type": "code",
   "execution_count": 41,
   "metadata": {},
   "outputs": [
    {
     "name": "stdout",
     "output_type": "stream",
     "text": [
      "0\n",
      "0\n",
      "float64    29\n",
      "int64      20\n",
      "Name: count, dtype: int64\n",
      "Type of Disease (Mild illness=1, Severe illness=2)\n",
      "2    546\n",
      "1     59\n",
      "Name: count, dtype: int64\n"
     ]
    }
   ],
   "source": [
    "print(df.isnull().sum().sum())  \n",
    "print(df.duplicated().sum())\n",
    "print(df.dtypes.value_counts())\n",
    "print(df['Type of Disease (Mild illness=1, Severe illness=2)'].value_counts())"
   ]
  },
  {
   "cell_type": "code",
   "execution_count": 42,
   "metadata": {},
   "outputs": [],
   "source": [
    "from sklearn.preprocessing import StandardScaler\n",
    "\n",
    "scaler = StandardScaler()\n",
    "scaled_data = scaler.fit_transform(df)\n",
    "\n",
    "df_scaled = pd.DataFrame(scaled_data, columns=df.columns)"
   ]
  },
  {
   "cell_type": "code",
   "execution_count": 43,
   "metadata": {},
   "outputs": [],
   "source": [
    "from sklearn.model_selection import train_test_split\n",
    "\n",
    "X = df_scaled.drop(columns=['Type of Disease (Mild illness=1, Severe illness=2)'])\n",
    "y = df_scaled['Type of Disease (Mild illness=1, Severe illness=2)']\n",
    "\n",
    "X_train, X_test, y_train, y_test = train_test_split(X, y, test_size=0.2, random_state=42)"
   ]
  },
  {
   "cell_type": "code",
   "execution_count": 44,
   "metadata": {},
   "outputs": [],
   "source": [
    "y_train = (y_train > 0).astype(int) \n",
    "y_test = (y_test > 0).astype(int)"
   ]
  },
  {
   "cell_type": "code",
   "execution_count": 45,
   "metadata": {},
   "outputs": [
    {
     "name": "stdout",
     "output_type": "stream",
     "text": [
      "SVM Model Prediction\n",
      "              precision    recall  f1-score   support\n",
      "\n",
      "           0       1.00      0.30      0.46        10\n",
      "           1       0.94      1.00      0.97       111\n",
      "\n",
      "    accuracy                           0.94       121\n",
      "   macro avg       0.97      0.65      0.72       121\n",
      "weighted avg       0.95      0.94      0.93       121\n",
      "\n"
     ]
    }
   ],
   "source": [
    "from sklearn.svm import SVC\n",
    "from sklearn.metrics import classification_report\n",
    "\n",
    "svm = svm = SVC(kernel='rbf', C=1, gamma=0.1, class_weight='balanced', random_state=42)\n",
    "\n",
    "svm.fit(X_train, y_train)\n",
    "\n",
    "svm_preds = svm.predict(X_test)\n",
    "\n",
    "print(\"SVM Model Prediction\")\n",
    "print(classification_report(y_test, svm_preds))"
   ]
  },
  {
   "cell_type": "code",
   "execution_count": 46,
   "metadata": {},
   "outputs": [
    {
     "name": "stdout",
     "output_type": "stream",
     "text": [
      "RandomForest Model Prediction\n",
      "              precision    recall  f1-score   support\n",
      "\n",
      "           0       0.83      1.00      0.91        10\n",
      "           1       1.00      0.98      0.99       111\n",
      "\n",
      "    accuracy                           0.98       121\n",
      "   macro avg       0.92      0.99      0.95       121\n",
      "weighted avg       0.99      0.98      0.98       121\n",
      "\n"
     ]
    }
   ],
   "source": [
    "from sklearn.ensemble import RandomForestClassifier\n",
    "\n",
    "rf = RandomForestClassifier(n_estimators=100, random_state=42)\n",
    "\n",
    "rf.fit(X_train, y_train)\n",
    "\n",
    "rf_preds = rf.predict(X_test)\n",
    "\n",
    "print(\"RandomForest Model Prediction\")\n",
    "print(classification_report(y_test, rf_preds))"
   ]
  },
  {
   "cell_type": "code",
   "execution_count": 47,
   "metadata": {},
   "outputs": [
    {
     "name": "stdout",
     "output_type": "stream",
     "text": [
      "RandomForest Train Set Prediction\n",
      "              precision    recall  f1-score   support\n",
      "\n",
      "           0       1.00      1.00      1.00        49\n",
      "           1       1.00      1.00      1.00       435\n",
      "\n",
      "    accuracy                           1.00       484\n",
      "   macro avg       1.00      1.00      1.00       484\n",
      "weighted avg       1.00      1.00      1.00       484\n",
      "\n"
     ]
    }
   ],
   "source": [
    "rf_train_preds = rf.predict(X_train)\n",
    "\n",
    "print(\"RandomForest Train Set Prediction\")\n",
    "print(classification_report(y_train, rf_train_preds))\n"
   ]
  },
  {
   "cell_type": "code",
   "execution_count": 48,
   "metadata": {},
   "outputs": [
    {
     "name": "stdout",
     "output_type": "stream",
     "text": [
      "SVM Train Set Prediction\n",
      "              precision    recall  f1-score   support\n",
      "\n",
      "           0       1.00      1.00      1.00        49\n",
      "           1       1.00      1.00      1.00       435\n",
      "\n",
      "    accuracy                           1.00       484\n",
      "   macro avg       1.00      1.00      1.00       484\n",
      "weighted avg       1.00      1.00      1.00       484\n",
      "\n"
     ]
    }
   ],
   "source": [
    "svm_train_preds = svm.predict(X_train)\n",
    "\n",
    "print(\"SVM Train Set Prediction\")\n",
    "print(classification_report(y_train, svm_train_preds))\n"
   ]
  },
  {
   "cell_type": "code",
   "execution_count": 49,
   "metadata": {},
   "outputs": [
    {
     "name": "stdout",
     "output_type": "stream",
     "text": [
      "SVM Model Prediction\n",
      "              precision    recall  f1-score   support\n",
      "\n",
      "           0       1.00      0.30      0.46        10\n",
      "           1       0.94      1.00      0.97       111\n",
      "\n",
      "    accuracy                           0.94       121\n",
      "   macro avg       0.97      0.65      0.72       121\n",
      "weighted avg       0.95      0.94      0.93       121\n",
      "\n"
     ]
    }
   ],
   "source": [
    "svm = SVC(kernel='rbf', C=0.5, gamma=0.1, class_weight='balanced', random_state=42)\n",
    "\n",
    "svm.fit(X_train, y_train)\n",
    "\n",
    "svm_preds = svm.predict(X_test)\n",
    "print(\"SVM Model Prediction\")\n",
    "print(classification_report(y_test, svm_preds))"
   ]
  },
  {
   "cell_type": "code",
   "execution_count": 50,
   "metadata": {},
   "outputs": [
    {
     "name": "stdout",
     "output_type": "stream",
     "text": [
      "RandomForest Model Prediction\n",
      "              precision    recall  f1-score   support\n",
      "\n",
      "           0       0.83      1.00      0.91        10\n",
      "           1       1.00      0.98      0.99       111\n",
      "\n",
      "    accuracy                           0.98       121\n",
      "   macro avg       0.92      0.99      0.95       121\n",
      "weighted avg       0.99      0.98      0.98       121\n",
      "\n"
     ]
    }
   ],
   "source": [
    "rf = RandomForestClassifier(\n",
    "    n_estimators=100,\n",
    "    max_depth=10,  \n",
    "    min_samples_split=5,  \n",
    "    random_state=42\n",
    ")\n",
    "\n",
    "rf.fit(X_train, y_train)\n",
    "\n",
    "rf_preds = rf.predict(X_test)\n",
    "print(\"RandomForest Model Prediction\")\n",
    "print(classification_report(y_test, rf_preds))"
   ]
  },
  {
   "cell_type": "code",
   "execution_count": 51,
   "metadata": {},
   "outputs": [
    {
     "name": "stdout",
     "output_type": "stream",
     "text": [
      "SVM Model Prediction (Linear Kernel)\n",
      "              precision    recall  f1-score   support\n",
      "\n",
      "           0       0.77      1.00      0.87        10\n",
      "           1       1.00      0.97      0.99       111\n",
      "\n",
      "    accuracy                           0.98       121\n",
      "   macro avg       0.88      0.99      0.93       121\n",
      "weighted avg       0.98      0.98      0.98       121\n",
      "\n"
     ]
    }
   ],
   "source": [
    "svm_linear = SVC(kernel='linear', C=1.0, class_weight='balanced', random_state=42)\n",
    "svm_linear.fit(X_train, y_train)\n",
    "\n",
    "svm_linear_preds = svm_linear.predict(X_test)\n",
    "\n",
    "print(\"SVM Model Prediction (Linear Kernel)\")\n",
    "print(classification_report(y_test, svm_linear_preds))"
   ]
  },
  {
   "cell_type": "code",
   "execution_count": 52,
   "metadata": {},
   "outputs": [],
   "source": [
    "from sklearn.metrics import roc_auc_score\n",
    "\n",
    "rf_probs = rf.predict_proba(X_test)[:, 1]\n",
    "rf_roc_auc = roc_auc_score(y_test, rf_probs)\n",
    "\n",
    "svm_linear_scores = svm_linear.decision_function(X_test)\n",
    "svm_linear_roc_auc = roc_auc_score(y_test, svm_linear_scores)"
   ]
  },
  {
   "cell_type": "code",
   "execution_count": 53,
   "metadata": {},
   "outputs": [
    {
     "name": "stdout",
     "output_type": "stream",
     "text": [
      "                 Metric  Random Forest  SVM (Linear Kernel)\n",
      "0              Accuracy       0.983471             0.975207\n",
      "1     Precision (Macro)       0.916667             0.884615\n",
      "2        Recall (Macro)       0.990991             0.986486\n",
      "3      F1-Score (Macro)       0.950000             0.927933\n",
      "4  Precision (Weighted)       0.986226             0.980928\n",
      "5     Recall (Weighted)       0.983471             0.975207\n",
      "6   F1-Score (Weighted)       0.984147             0.976654\n",
      "7               ROC-AUC       0.999099             0.993694\n"
     ]
    }
   ],
   "source": [
    "rf_report = classification_report(y_test, rf_preds, output_dict=True)\n",
    "\n",
    "svm_linear_report = classification_report(y_test, svm_linear_preds, output_dict=True)\n",
    "\n",
    "comparison_df = pd.DataFrame({\n",
    "    \"Metric\": [\"Accuracy\", \"Precision (Macro)\", \"Recall (Macro)\", \"F1-Score (Macro)\", \n",
    "               \"Precision (Weighted)\", \"Recall (Weighted)\", \"F1-Score (Weighted)\", \"ROC-AUC\"],\n",
    "    \"Random Forest\": [\n",
    "        rf_report[\"accuracy\"], \n",
    "        rf_report[\"macro avg\"][\"precision\"],\n",
    "        rf_report[\"macro avg\"][\"recall\"],\n",
    "        rf_report[\"macro avg\"][\"f1-score\"],\n",
    "        rf_report[\"weighted avg\"][\"precision\"],\n",
    "        rf_report[\"weighted avg\"][\"recall\"],\n",
    "        rf_report[\"weighted avg\"][\"f1-score\"],\n",
    "        rf_roc_auc\n",
    "    ],\n",
    "    \"SVM (Linear Kernel)\": [\n",
    "        svm_linear_report[\"accuracy\"],\n",
    "        svm_linear_report[\"macro avg\"][\"precision\"],\n",
    "        svm_linear_report[\"macro avg\"][\"recall\"],\n",
    "        svm_linear_report[\"macro avg\"][\"f1-score\"],\n",
    "        svm_linear_report[\"weighted avg\"][\"precision\"],\n",
    "        svm_linear_report[\"weighted avg\"][\"recall\"],\n",
    "        svm_linear_report[\"weighted avg\"][\"f1-score\"],\n",
    "        svm_linear_roc_auc\n",
    "    ]\n",
    "})\n",
    "\n",
    "print(comparison_df)"
   ]
  },
  {
   "cell_type": "code",
   "execution_count": null,
   "metadata": {},
   "outputs": [],
   "source": []
  }
 ],
 "metadata": {
  "kernelspec": {
   "display_name": "Python 3",
   "language": "python",
   "name": "python3"
  },
  "language_info": {
   "codemirror_mode": {
    "name": "ipython",
    "version": 3
   },
   "file_extension": ".py",
   "mimetype": "text/x-python",
   "name": "python",
   "nbconvert_exporter": "python",
   "pygments_lexer": "ipython3",
   "version": "3.11.4"
  }
 },
 "nbformat": 4,
 "nbformat_minor": 2
}
